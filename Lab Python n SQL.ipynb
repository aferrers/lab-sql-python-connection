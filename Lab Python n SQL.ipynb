{
 "cells": [
  {
   "cell_type": "markdown",
   "id": "bc77946e-4fb2-4d8c-bedd-57d86d32e687",
   "metadata": {},
   "source": [
    "LAB Python and SQL"
   ]
  },
  {
   "cell_type": "code",
   "execution_count": 1,
   "id": "92f24fcd-f346-4c63-9549-1e91129bcdb1",
   "metadata": {
    "tags": []
   },
   "outputs": [],
   "source": [
    "# prep: import modules and get pwd\n",
    "import pymysql\n",
    "from sqlalchemy import create_engine\n",
    "import pandas as pd\n",
    "import getpass  # To get the password without showing the input"
   ]
  },
  {
   "cell_type": "code",
   "execution_count": 2,
   "id": "53650f76-b95f-43a9-a845-6c1f9b0ef9d6",
   "metadata": {
    "tags": []
   },
   "outputs": [
    {
     "name": "stdin",
     "output_type": "stream",
     "text": [
      " ········\n"
     ]
    }
   ],
   "source": [
    "password = getpass.getpass()"
   ]
  },
  {
   "cell_type": "markdown",
   "id": "af19e985-b5e0-4c6b-8a95-b5ed81386af2",
   "metadata": {},
   "source": [
    "1. Establish a connection between Python and the Sakila database."
   ]
  },
  {
   "cell_type": "code",
   "execution_count": 3,
   "id": "f0c26d3b-eca5-4823-93fe-676a5371582e",
   "metadata": {
    "tags": []
   },
   "outputs": [],
   "source": [
    "# get the data\n",
    "connection_string = 'mysql+pymysql://root:' + password + '@localhost/sakila'\n",
    "engine = create_engine(connection_string)"
   ]
  },
  {
   "cell_type": "code",
   "execution_count": 4,
   "id": "14f39d6d-6bcb-43d8-8f3c-e9f7aa9db260",
   "metadata": {
    "tags": []
   },
   "outputs": [],
   "source": [
    "query = '''select * from film;'''"
   ]
  },
  {
   "cell_type": "code",
   "execution_count": 7,
   "id": "6c874b8e-544c-4654-86e7-acc9585cfc2a",
   "metadata": {
    "tags": []
   },
   "outputs": [],
   "source": [
    "data = pd.read_sql_query(query, engine)"
   ]
  },
  {
   "cell_type": "markdown",
   "id": "575015ac-9f6f-4487-85ce-fc38b59a3a6e",
   "metadata": {},
   "source": [
    "2. Write a Python function called rentals_month that retrieves rental data for a given month and year (passed as parameters) from the Sakila database as a Pandas DataFrame. The function should take in three parameters:\n",
    "\n",
    "--engine: an object representing the database connection engine to be used to establish a connection to the Sakila database.\n",
    "\n",
    "--month: an integer representing the month for which rental data is to be retrieved.\n",
    "\n",
    "--year: an integer representing the year for which rental data is to be retrieved.\n",
    "\n",
    "The function should execute a SQL query to retrieve the rental data for the specified month and year from the rental table in the Sakila database, and return it as a pandas DataFrame."
   ]
  },
  {
   "cell_type": "code",
   "execution_count": 96,
   "id": "9e78697d-1d1d-4390-ad2f-59ec43dc8834",
   "metadata": {
    "tags": []
   },
   "outputs": [],
   "source": [
    "def rentals(engine: object, f_month: int, f_year: int) -> pd.DataFrame:\n",
    "    '''\n",
    "    this function will return all the columns in the rental table filtered by month and year\n",
    "    inputs:\n",
    "    engine: object\n",
    "    f_month: int: selected month to filter data\n",
    "    f_year: int: selected year to filter data\n",
    "    output:\n",
    "    pd.DataFrame\n",
    "    '''\n",
    "    \n",
    "    query = f'''\n",
    "        SELECT *\n",
    "        FROM rental\n",
    "        WHERE YEAR(rental_date) = {f_year} AND MONTH(rental_date) = {f_month};\n",
    "        '''\n",
    "    data_f = pd.read_sql_query(query, engine)\n",
    "#   data_f.set_index('rental_id', inplace=True) # to avoid having index duplicity\n",
    "    return data_f"
   ]
  },
  {
   "cell_type": "code",
   "execution_count": 104,
   "id": "f4fdb7a9-54f8-45ad-ae8d-e69800aa7ad7",
   "metadata": {
    "tags": []
   },
   "outputs": [
    {
     "data": {
      "text/plain": [
       "(1156, 7)"
      ]
     },
     "execution_count": 104,
     "metadata": {},
     "output_type": "execute_result"
    }
   ],
   "source": [
    "query_test = rentals(engine, 5, 2005)\n",
    "#query_test.shape"
   ]
  },
  {
   "cell_type": "markdown",
   "id": "31695a2e-a30c-4927-bbb2-5c7cdceb6fe2",
   "metadata": {},
   "source": [
    "3. Develop a Python function called rental_count_month that takes the \n",
    "\n",
    "-DataFrame provided by rentals_month as input along with the \n",
    "\n",
    "-month and year and \n",
    "\n",
    "-returns a new DataFrame containing the number of rentals made by each customer_id during the selected month and year.\n",
    "\n",
    "The function should also include the month and year as parameters and use them to name the new column according to the month and year, for example, if the input month is 05 and the year is 2005, the column name should be \"rentals_05_2005\".\n",
    "\n",
    "Hint: Consider making use of pandas groupby()"
   ]
  },
  {
   "cell_type": "code",
   "execution_count": 126,
   "id": "4adcff02-2235-46cb-88f8-3bd0f0d26f89",
   "metadata": {
    "tags": []
   },
   "outputs": [],
   "source": [
    "def rental_count_month(df: pd.DataFrame, f_month: int, f_year: int) -> pd.DataFrame:\n",
    "    '''\n",
    "    '''\n",
    "    \n",
    "    col_name = f'rentals_{f_month}_{f_year}' #set new column name string using F-strings\n",
    "    \n",
    "    df_grouped = df.groupby('customer_id').agg({'rental_id': 'count'}) # summarize data\n",
    "    \n",
    "    df_renamed = df_grouped.rename(columns={'rental_id': col_name}) #rename column\n",
    "\n",
    "    df_sorted = df_renamed.sort_values(by=col_name, ascending=False)\n",
    "        \n",
    "    return df_sorted"
   ]
  },
  {
   "cell_type": "code",
   "execution_count": 127,
   "id": "0ecb2efd-8f9d-403d-a475-74feb3e0567d",
   "metadata": {
    "tags": []
   },
   "outputs": [
    {
     "data": {
      "text/html": [
       "<div>\n",
       "<style scoped>\n",
       "    .dataframe tbody tr th:only-of-type {\n",
       "        vertical-align: middle;\n",
       "    }\n",
       "\n",
       "    .dataframe tbody tr th {\n",
       "        vertical-align: top;\n",
       "    }\n",
       "\n",
       "    .dataframe thead th {\n",
       "        text-align: right;\n",
       "    }\n",
       "</style>\n",
       "<table border=\"1\" class=\"dataframe\">\n",
       "  <thead>\n",
       "    <tr style=\"text-align: right;\">\n",
       "      <th></th>\n",
       "      <th>rentals_5_2005</th>\n",
       "    </tr>\n",
       "    <tr>\n",
       "      <th>customer_id</th>\n",
       "      <th></th>\n",
       "    </tr>\n",
       "  </thead>\n",
       "  <tbody>\n",
       "    <tr>\n",
       "      <th>197</th>\n",
       "      <td>8</td>\n",
       "    </tr>\n",
       "    <tr>\n",
       "      <th>109</th>\n",
       "      <td>7</td>\n",
       "    </tr>\n",
       "    <tr>\n",
       "      <th>506</th>\n",
       "      <td>7</td>\n",
       "    </tr>\n",
       "    <tr>\n",
       "      <th>53</th>\n",
       "      <td>6</td>\n",
       "    </tr>\n",
       "    <tr>\n",
       "      <th>269</th>\n",
       "      <td>6</td>\n",
       "    </tr>\n",
       "    <tr>\n",
       "      <th>...</th>\n",
       "      <td>...</td>\n",
       "    </tr>\n",
       "    <tr>\n",
       "      <th>352</th>\n",
       "      <td>1</td>\n",
       "    </tr>\n",
       "    <tr>\n",
       "      <th>353</th>\n",
       "      <td>1</td>\n",
       "    </tr>\n",
       "    <tr>\n",
       "      <th>355</th>\n",
       "      <td>1</td>\n",
       "    </tr>\n",
       "    <tr>\n",
       "      <th>356</th>\n",
       "      <td>1</td>\n",
       "    </tr>\n",
       "    <tr>\n",
       "      <th>599</th>\n",
       "      <td>1</td>\n",
       "    </tr>\n",
       "  </tbody>\n",
       "</table>\n",
       "<p>520 rows × 1 columns</p>\n",
       "</div>"
      ],
      "text/plain": [
       "             rentals_5_2005\n",
       "customer_id                \n",
       "197                       8\n",
       "109                       7\n",
       "506                       7\n",
       "53                        6\n",
       "269                       6\n",
       "...                     ...\n",
       "352                       1\n",
       "353                       1\n",
       "355                       1\n",
       "356                       1\n",
       "599                       1\n",
       "\n",
       "[520 rows x 1 columns]"
      ]
     },
     "execution_count": 127,
     "metadata": {},
     "output_type": "execute_result"
    }
   ],
   "source": [
    "rental_count_month(query_test, 5, 2005)"
   ]
  },
  {
   "cell_type": "code",
   "execution_count": 139,
   "id": "82ca7592-7f96-4f60-8d89-f937db7c5133",
   "metadata": {
    "tags": []
   },
   "outputs": [],
   "source": [
    "# additional step: define function to combine previous two functions\n",
    "def rental_count_month_combined(engine: object, f_month: int, f_year: int) -> pd.DataFrame:\n",
    "    '''\n",
    "    this functions combines the previous two fn (rentals() and rental_count_month()) \n",
    "    as they share the month/year arguments and the output DataFrame of one is the input of the 2nd one.\n",
    "    inputs:\n",
    "    engine: object\n",
    "    f_month: int: selected month to filter data\n",
    "    f_year: int: selected year to filter data\n",
    "    output:\n",
    "    pd.DataFrame\n",
    "    '''\n",
    "    result_rentals=rentals(engine, f_month, f_year)\n",
    "        \n",
    "    result_count=rental_count_month(result_rentals, f_month, f_year)\n",
    "\n",
    "    return result_count"
   ]
  },
  {
   "cell_type": "markdown",
   "id": "269eae94-60b7-4c0b-9049-a18375a464ac",
   "metadata": {},
   "source": [
    "4. Create a Python function called compare_rentals that takes two DataFrames as input containing the number of rentals made by each customer in different months and years. The function should return a combined DataFrame with a new 'difference' column, which is the difference between the number of rentals in the two months."
   ]
  },
  {
   "cell_type": "code",
   "execution_count": 152,
   "id": "7e0c4446-4834-4364-b68e-6b184ff0e050",
   "metadata": {
    "tags": []
   },
   "outputs": [],
   "source": [
    "def compare_rentals(df1: pd.DataFrame, df2: pd.DataFrame) -> pd.DataFrame:\n",
    "    '''\n",
    "    the function returns a combined DataFrame with a new 'difference' column, \n",
    "    which is the difference between the number of rentals in the two months.\n",
    "    inputs:\n",
    "    df1 first dataframe to compare\n",
    "    df2 2nd dataframe to compate\n",
    "    output:\n",
    "    df combined DataFrame with a new 'difference' column\n",
    "    '''\n",
    "    # combine both dataframes\n",
    "    merged_df = df1.merge(df2, on='customer_id')\n",
    "    merged_df['difference'] = merged_df['rentals_2_2006'] - merged_df['rentals_5_2005']\n",
    "    return merged_df\n",
    "    "
   ]
  },
  {
   "cell_type": "code",
   "execution_count": 143,
   "id": "836deb8e-2839-4102-82da-a991775e1ffd",
   "metadata": {
    "tags": []
   },
   "outputs": [],
   "source": [
    "#create test dataframes\n",
    "\n",
    "rentals_05_2005=rental_count_month_combined(engine, 5, 2005)\n",
    "rentals_02_2006=rental_count_month_combined(engine, 2, 2006)"
   ]
  },
  {
   "cell_type": "code",
   "execution_count": 153,
   "id": "36614a77-1037-4a5e-8f0c-56ba7cbbe321",
   "metadata": {
    "tags": []
   },
   "outputs": [
    {
     "data": {
      "text/html": [
       "<div>\n",
       "<style scoped>\n",
       "    .dataframe tbody tr th:only-of-type {\n",
       "        vertical-align: middle;\n",
       "    }\n",
       "\n",
       "    .dataframe tbody tr th {\n",
       "        vertical-align: top;\n",
       "    }\n",
       "\n",
       "    .dataframe thead th {\n",
       "        text-align: right;\n",
       "    }\n",
       "</style>\n",
       "<table border=\"1\" class=\"dataframe\">\n",
       "  <thead>\n",
       "    <tr style=\"text-align: right;\">\n",
       "      <th></th>\n",
       "      <th>rentals_5_2005</th>\n",
       "      <th>rentals_2_2006</th>\n",
       "      <th>difference</th>\n",
       "    </tr>\n",
       "    <tr>\n",
       "      <th>customer_id</th>\n",
       "      <th></th>\n",
       "      <th></th>\n",
       "      <th></th>\n",
       "    </tr>\n",
       "  </thead>\n",
       "  <tbody>\n",
       "    <tr>\n",
       "      <th>53</th>\n",
       "      <td>6</td>\n",
       "      <td>2</td>\n",
       "      <td>-4</td>\n",
       "    </tr>\n",
       "    <tr>\n",
       "      <th>269</th>\n",
       "      <td>6</td>\n",
       "      <td>2</td>\n",
       "      <td>-4</td>\n",
       "    </tr>\n",
       "    <tr>\n",
       "      <th>245</th>\n",
       "      <td>6</td>\n",
       "      <td>1</td>\n",
       "      <td>-5</td>\n",
       "    </tr>\n",
       "    <tr>\n",
       "      <th>251</th>\n",
       "      <td>6</td>\n",
       "      <td>1</td>\n",
       "      <td>-5</td>\n",
       "    </tr>\n",
       "    <tr>\n",
       "      <th>596</th>\n",
       "      <td>6</td>\n",
       "      <td>1</td>\n",
       "      <td>-5</td>\n",
       "    </tr>\n",
       "    <tr>\n",
       "      <th>...</th>\n",
       "      <td>...</td>\n",
       "      <td>...</td>\n",
       "      <td>...</td>\n",
       "    </tr>\n",
       "    <tr>\n",
       "      <th>324</th>\n",
       "      <td>1</td>\n",
       "      <td>1</td>\n",
       "      <td>0</td>\n",
       "    </tr>\n",
       "    <tr>\n",
       "      <th>327</th>\n",
       "      <td>1</td>\n",
       "      <td>1</td>\n",
       "      <td>0</td>\n",
       "    </tr>\n",
       "    <tr>\n",
       "      <th>349</th>\n",
       "      <td>1</td>\n",
       "      <td>1</td>\n",
       "      <td>0</td>\n",
       "    </tr>\n",
       "    <tr>\n",
       "      <th>352</th>\n",
       "      <td>1</td>\n",
       "      <td>1</td>\n",
       "      <td>0</td>\n",
       "    </tr>\n",
       "    <tr>\n",
       "      <th>355</th>\n",
       "      <td>1</td>\n",
       "      <td>1</td>\n",
       "      <td>0</td>\n",
       "    </tr>\n",
       "  </tbody>\n",
       "</table>\n",
       "<p>139 rows × 3 columns</p>\n",
       "</div>"
      ],
      "text/plain": [
       "             rentals_5_2005  rentals_2_2006  difference\n",
       "customer_id                                            \n",
       "53                        6               2          -4\n",
       "269                       6               2          -4\n",
       "245                       6               1          -5\n",
       "251                       6               1          -5\n",
       "596                       6               1          -5\n",
       "...                     ...             ...         ...\n",
       "324                       1               1           0\n",
       "327                       1               1           0\n",
       "349                       1               1           0\n",
       "352                       1               1           0\n",
       "355                       1               1           0\n",
       "\n",
       "[139 rows x 3 columns]"
      ]
     },
     "execution_count": 153,
     "metadata": {},
     "output_type": "execute_result"
    }
   ],
   "source": [
    "compare_rentals(rentals_05_2005, rentals_02_2006)"
   ]
  }
 ],
 "metadata": {
  "kernelspec": {
   "display_name": "Python 3 (ipykernel)",
   "language": "python",
   "name": "python3"
  },
  "language_info": {
   "codemirror_mode": {
    "name": "ipython",
    "version": 3
   },
   "file_extension": ".py",
   "mimetype": "text/x-python",
   "name": "python",
   "nbconvert_exporter": "python",
   "pygments_lexer": "ipython3",
   "version": "3.11.5"
  }
 },
 "nbformat": 4,
 "nbformat_minor": 5
}
